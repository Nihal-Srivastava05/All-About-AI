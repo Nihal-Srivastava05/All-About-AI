{
 "cells": [
  {
   "cell_type": "markdown",
   "id": "e6df4864",
   "metadata": {},
   "source": [
    "# Goal Based Agent\n",
    "\n",
    "The environment I have choosen here is the sliding tile puzzle game. It is basically a small puzzle where you have one gap (Here represented as a 0) and all other tiles are numbered from 1 to the max number possible (If it is a 9x9 board then max number is 8). Now the goal is to slide the tiles such that finally all the tiles are in the right order (Starting from 1 and so on). \n",
    "Ex:\n",
    "\n",
    "<pre>\n",
    "Initial state:      Final State:\n",
    "2 4 3               1 2 3 \n",
    "1 8 5               4 5 6 \n",
    "7 0 6               7 8 0\n",
    "</pre>\n",
    "\n",
    "Now the agent can move any tile into the empty gap example here 8 down or 7 to the right or 6 to the left. This is a goal based agent so it has the knowledge of the final goal state in its mind. For the utility function I have used the number of misplaced tiles and shortest path between all the location and thier goal state location. To find the shortest path we can use the manhattan distance ( |x1-x2|+|y1-y2| ). Now the agent uses this and gives the moves and tried to reduce this total score (num of tiles displaced + total distance) till it is zero (Goal state reached)."
   ]
  },
  {
   "cell_type": "code",
   "execution_count": 1,
   "id": "54268ee1",
   "metadata": {},
   "outputs": [],
   "source": [
    "import random\n",
    "import math"
   ]
  },
  {
   "cell_type": "markdown",
   "id": "a2b1db60",
   "metadata": {},
   "source": [
    "## Puzzle board generator"
   ]
  },
  {
   "cell_type": "markdown",
   "id": "b15b1d7d",
   "metadata": {},
   "source": [
    "This function is used to generate a random puzzle board which is also solvable. To make a puzzle board, I first took solved puzzle and then scrambled it randomly by swapping the gap with its neighbors randomly a random number of times so that the final board it completely scrambled."
   ]
  },
  {
   "cell_type": "code",
   "execution_count": 2,
   "id": "3e0d8fea",
   "metadata": {},
   "outputs": [],
   "source": [
    "def puzzle_generator(n):\n",
    "    row_num = int(math.sqrt(n))\n",
    "    num = 1\n",
    "    puzzle = []\n",
    "    for i in range(row_num):\n",
    "        row = []\n",
    "        for j in range(row_num):\n",
    "            row.append(num)\n",
    "            num += 1\n",
    "        puzzle.append(row)\n",
    "    \n",
    "    puzzle[row_num-1][row_num-1] = 0\n",
    "    rand_suffle = random.randint(n, n*n)\n",
    "    x = row_num - 1\n",
    "    y = row_num - 1\n",
    "    for i in range(rand_suffle):\n",
    "        possible_moves = [0, 1, 2, 3]\n",
    "        if(x - 1 < 0):\n",
    "            possible_moves.remove(0)\n",
    "        if(x + 1 >= row_num):\n",
    "            possible_moves.remove(1)\n",
    "        if(y - 1 < 0):\n",
    "            possible_moves.remove(2)\n",
    "        if(y + 1 >= row_num):\n",
    "            possible_moves.remove(3)\n",
    "        rand_move = random.choice(possible_moves)\n",
    "        if(rand_move == 0): #UP\n",
    "            puzzle[x][y] = puzzle[x-1][y] \n",
    "            puzzle[x-1][y] = 0\n",
    "            x -= 1\n",
    "        elif(rand_move == 1): #Down\n",
    "            puzzle[x][y] = puzzle[x+1][y] \n",
    "            puzzle[x+1][y] = 0\n",
    "            x += 1\n",
    "        elif(rand_move == 2): #Left\n",
    "            puzzle[x][y] = puzzle[x][y-1] \n",
    "            puzzle[x][y-1] = 0\n",
    "            y -= 1\n",
    "        elif(rand_move == 3): #Right\n",
    "            puzzle[x][y] = puzzle[x][y+1] \n",
    "            puzzle[x][y+1] = 0\n",
    "            y += 1\n",
    "    return (puzzle, (x, y))"
   ]
  },
  {
   "cell_type": "code",
   "execution_count": 3,
   "id": "cfe61fa6",
   "metadata": {},
   "outputs": [],
   "source": [
    "class puzzle:\n",
    "    def __init__(self, n=9, puzzle=None, start=None):\n",
    "        self.n = n\n",
    "        self.row_len = int(math.sqrt(self.n))\n",
    "        if(puzzle):\n",
    "            self.puzzle = puzzle\n",
    "            self.start = start\n",
    "        else:\n",
    "            create_puzzle = puzzle_generator(n)\n",
    "            self.puzzle = create_puzzle[0]\n",
    "            self.start = create_puzzle[1]\n",
    "    \n",
    "    def print_puzzle(self):\n",
    "        for i in range(self.row_len):\n",
    "            for j in range(self.row_len):\n",
    "                print(self.puzzle[i][j], end=\" \")\n",
    "            print()\n",
    "    \n",
    "    def get_correct_index(self, element):\n",
    "        if(element == 0):\n",
    "            x = self.row_len - 1\n",
    "            y = self.row_len - 1\n",
    "        else:   \n",
    "            if(element % self.row_len == 0):\n",
    "                x = element // (self.row_len+1)\n",
    "                y = self.row_len - 1\n",
    "            else:\n",
    "                x = element // self.row_len\n",
    "                y = (element % self.row_len) - 1\n",
    "        return (x, y)\n",
    "    \n",
    "    def manhattan_dist(self, pos, element):\n",
    "        idx, idy = self.get_correct_index(element)\n",
    "        d = abs(pos[0] - idx) + abs(pos[1] - idy)\n",
    "        return d\n",
    "    \n",
    "    def get_total_distance(self):\n",
    "        total_dist = 0\n",
    "        num_disp = 0\n",
    "        for i in range(self.row_len):\n",
    "            for j in range(self.row_len):\n",
    "                if(self.get_correct_index(self.puzzle[i][j]) != (i, j)):\n",
    "                    num_disp += 1\n",
    "                total_dist += self.manhattan_dist((i, j), self.puzzle[i][j])\n",
    "        return total_dist + num_disp\n",
    "    \n",
    "    def make_move(self, pos, move):\n",
    "        x = pos[0]\n",
    "        y = pos[1]\n",
    "        if(move == 0): #UP\n",
    "            self.puzzle[x][y] = self.puzzle[x-1][y] \n",
    "            self.puzzle[x-1][y] = 0\n",
    "            x -= 1\n",
    "        elif(move == 1): #Down\n",
    "            self.puzzle[x][y] = self.puzzle[x+1][y] \n",
    "            self.puzzle[x+1][y] = 0\n",
    "            x += 1\n",
    "        elif(move == 2): #Left\n",
    "            self.puzzle[x][y] = self.puzzle[x][y-1] \n",
    "            self.puzzle[x][y-1] = 0\n",
    "            y -= 1\n",
    "        elif(move == 3): #Right\n",
    "            self.puzzle[x][y] = self.puzzle[x][y+1] \n",
    "            self.puzzle[x][y+1] = 0\n",
    "            y += 1\n",
    "        return (x, y)"
   ]
  },
  {
   "cell_type": "code",
   "execution_count": 4,
   "id": "54fb7f73",
   "metadata": {},
   "outputs": [],
   "source": [
    "p = puzzle()"
   ]
  },
  {
   "cell_type": "code",
   "execution_count": 5,
   "id": "a4a9f222",
   "metadata": {},
   "outputs": [
    {
     "name": "stdout",
     "output_type": "stream",
     "text": [
      "1 5 2 \n",
      "4 0 3 \n",
      "7 8 6 \n"
     ]
    }
   ],
   "source": [
    "p.print_puzzle()"
   ]
  },
  {
   "cell_type": "code",
   "execution_count": 6,
   "id": "289b7086",
   "metadata": {
    "scrolled": true
   },
   "outputs": [
    {
     "data": {
      "text/plain": [
       "(1, 1)"
      ]
     },
     "execution_count": 6,
     "metadata": {},
     "output_type": "execute_result"
    }
   ],
   "source": [
    "p.start"
   ]
  },
  {
   "cell_type": "code",
   "execution_count": 7,
   "id": "bca5b402",
   "metadata": {},
   "outputs": [
    {
     "data": {
      "text/plain": [
       "2"
      ]
     },
     "execution_count": 7,
     "metadata": {},
     "output_type": "execute_result"
    }
   ],
   "source": [
    "p.manhattan_dist(p.start, 0)"
   ]
  },
  {
   "cell_type": "markdown",
   "id": "0c0a15cf",
   "metadata": {},
   "source": [
    "## Agent"
   ]
  },
  {
   "cell_type": "code",
   "execution_count": 8,
   "id": "75fa774c",
   "metadata": {},
   "outputs": [],
   "source": [
    "class puzzle_solver:\n",
    "    def __init__(self, start):\n",
    "        self.x = start[0]\n",
    "        self.y = start[1]\n",
    "        self.prev_move = -1\n",
    "        self.memory = []\n",
    "    \n",
    "    def move(self, env):\n",
    "        if(env.get_total_distance() == 0):\n",
    "            print(\"Solved the puzzle...\")\n",
    "            return False\n",
    "        if(len(self.memory) > 10):\n",
    "            self.memory.pop(0)\n",
    "        \n",
    "        loop_check = 0\n",
    "        for i in range(len(self.memory)):\n",
    "            for j in range(i+1, len(self.memory)):\n",
    "                if(self.memory[i] == self.memory[j]):\n",
    "                    loop_count = 0\n",
    "                    for k in range(4):\n",
    "                        if((i+k < len(self.memory)) and (j+k < len(self.memory)) and (self.memory[i+k] == self.memory[j+k])):\n",
    "                            loop_count += 1\n",
    "                    if(loop_count == 4):\n",
    "                        loop_check = 1\n",
    "                        next_move = self.memory[i+1]\n",
    "                        break\n",
    "        \n",
    "        if(env.get_total_distance() == 0):\n",
    "            print(\"Solved the puzzle...\")\n",
    "            return False\n",
    "        elif(loop_check):\n",
    "            possible_moves = [0, 1, 2, 3]\n",
    "            if(self.x - 1 < 0):\n",
    "                possible_moves.remove(0)\n",
    "            if(self.x + 1 >= env.row_len):\n",
    "                possible_moves.remove(1)\n",
    "            if(self.y - 1 < 0):\n",
    "                possible_moves.remove(2)\n",
    "            if(self.y + 1 >= env.row_len):\n",
    "                possible_moves.remove(3)\n",
    "            if(next_move in possible_moves):\n",
    "                possible_moves.remove(next_move)\n",
    "            \n",
    "            rand_move = random.choice(possible_moves)\n",
    "            nx, ny = env.make_move((self.x, self.y), rand_move)\n",
    "            self.x = nx\n",
    "            self.y = ny\n",
    "            self.prev_move = rand_move\n",
    "            self.memory.append(rand_move)\n",
    "            print(\"I moved: \", rand_move)\n",
    "            return True\n",
    "        else:\n",
    "            possible_moves = [0, 1, 2, 3]\n",
    "            if(self.x - 1 < 0):\n",
    "                possible_moves.remove(0)\n",
    "            if(self.x + 1 >= env.row_len):\n",
    "                possible_moves.remove(1)\n",
    "            if(self.y - 1 < 0):\n",
    "                possible_moves.remove(2)\n",
    "            if(self.y + 1 >= env.row_len):\n",
    "                possible_moves.remove(3)\n",
    "                \n",
    "            if(self.prev_move != -1):\n",
    "                if(self.prev_move == 0):\n",
    "                    possible_moves.remove(1)\n",
    "                elif(self.prev_move == 1):\n",
    "                    possible_moves.remove(0)\n",
    "                elif(self.prev_move == 2):\n",
    "                    possible_moves.remove(3)\n",
    "                elif(self.prev_move == 3):\n",
    "                    possible_moves.remove(2)\n",
    "\n",
    "            best_move = -1\n",
    "            best_score = env.row_len * env.n\n",
    "            for move in possible_moves:\n",
    "                nx, ny = env.make_move((self.x, self.y), move)\n",
    "                score = env.get_total_distance()\n",
    "                if(score < best_score):\n",
    "                    best_score = score\n",
    "                    best_move = move\n",
    "                if(move == 0):\n",
    "                    oppo_move = 1\n",
    "                elif(move == 1):\n",
    "                    oppo_move = 0\n",
    "                elif(move == 2):\n",
    "                    oppo_move = 3\n",
    "                elif(move == 3):\n",
    "                    oppo_move = 2\n",
    "                env.make_move((nx, ny), oppo_move)\n",
    "\n",
    "            nx, ny = env.make_move((self.x, self.y), best_move)\n",
    "            self.x = nx\n",
    "            self.y = ny\n",
    "            self.prev_move = best_move\n",
    "            self.memory.append(best_move)\n",
    "            print(\"I moved: \", best_move, \"Current score: \", best_score)\n",
    "            return True"
   ]
  },
  {
   "cell_type": "markdown",
   "id": "2f51c280",
   "metadata": {},
   "source": [
    "## Running the agent"
   ]
  },
  {
   "cell_type": "code",
   "execution_count": 9,
   "id": "82222da4",
   "metadata": {},
   "outputs": [],
   "source": [
    "cust_puzzle = [[0,2],\n",
    "               [1,3],]\n",
    "cust_start = (0, 0)"
   ]
  },
  {
   "cell_type": "code",
   "execution_count": 10,
   "id": "431f75ca",
   "metadata": {},
   "outputs": [
    {
     "name": "stdout",
     "output_type": "stream",
     "text": [
      "0 2 \n",
      "1 3 \n"
     ]
    }
   ],
   "source": [
    "env = puzzle(n=4, puzzle=cust_puzzle, start=cust_start)\n",
    "env.print_puzzle()"
   ]
  },
  {
   "cell_type": "code",
   "execution_count": 11,
   "id": "dc1d80a4",
   "metadata": {},
   "outputs": [],
   "source": [
    "agent = puzzle_solver(env.start)"
   ]
  },
  {
   "cell_type": "code",
   "execution_count": 12,
   "id": "85099754",
   "metadata": {
    "scrolled": true
   },
   "outputs": [
    {
     "name": "stdout",
     "output_type": "stream",
     "text": [
      "I moved:  1 Current score:  4\n",
      "1 2 \n",
      "0 3 \n",
      "I moved:  3 Current score:  0\n",
      "1 2 \n",
      "3 0 \n",
      "Solved the puzzle...\n",
      "1 2 \n",
      "3 0 \n"
     ]
    }
   ],
   "source": [
    "status = True\n",
    "while(status):\n",
    "    status = agent.move(env)\n",
    "    env.print_puzzle()"
   ]
  },
  {
   "cell_type": "code",
   "execution_count": 13,
   "id": "b4a7cabc",
   "metadata": {},
   "outputs": [],
   "source": [
    "cust_puzzle2 = [[2, 4, 3],\n",
    "               [1, 8, 5],\n",
    "               [7, 0, 6]]\n",
    "cust_start2 = (2, 1)"
   ]
  },
  {
   "cell_type": "code",
   "execution_count": 14,
   "id": "fd72f9e9",
   "metadata": {},
   "outputs": [
    {
     "name": "stdout",
     "output_type": "stream",
     "text": [
      "2 4 3 \n",
      "1 8 5 \n",
      "7 0 6 \n"
     ]
    }
   ],
   "source": [
    "env = puzzle(n=9, puzzle=cust_puzzle2, start=cust_start2)\n",
    "env.print_puzzle()"
   ]
  },
  {
   "cell_type": "code",
   "execution_count": 15,
   "id": "5cba3564",
   "metadata": {},
   "outputs": [
    {
     "name": "stdout",
     "output_type": "stream",
     "text": [
      "I moved:  0 Current score:  14\n",
      "2 4 3 \n",
      "1 0 5 \n",
      "7 8 6 \n",
      "I moved:  3 Current score:  11\n",
      "2 4 3 \n",
      "1 5 0 \n",
      "7 8 6 \n",
      "I moved:  1 Current score:  7\n",
      "2 4 3 \n",
      "1 5 6 \n",
      "7 8 0 \n",
      "I moved:  2 Current score:  11\n",
      "2 4 3 \n",
      "1 5 6 \n",
      "7 0 8 \n",
      "I moved:  0 Current score:  14\n",
      "2 4 3 \n",
      "1 0 6 \n",
      "7 5 8 \n",
      "I moved:  0 Current score:  14\n",
      "2 0 3 \n",
      "1 4 6 \n",
      "7 5 8 \n",
      "I moved:  2 Current score:  13\n",
      "0 2 3 \n",
      "1 4 6 \n",
      "7 5 8 \n",
      "I moved:  1 Current score:  10\n",
      "1 2 3 \n",
      "0 4 6 \n",
      "7 5 8 \n",
      "I moved:  3 Current score:  7\n",
      "1 2 3 \n",
      "4 0 6 \n",
      "7 5 8 \n",
      "I moved:  1 Current score:  4\n",
      "1 2 3 \n",
      "4 5 6 \n",
      "7 0 8 \n",
      "I moved:  3 Current score:  0\n",
      "1 2 3 \n",
      "4 5 6 \n",
      "7 8 0 \n",
      "Solved the puzzle...\n",
      "1 2 3 \n",
      "4 5 6 \n",
      "7 8 0 \n"
     ]
    }
   ],
   "source": [
    "agent = puzzle_solver(env.start)\n",
    "status = True\n",
    "while(status):\n",
    "    status = agent.move(env)\n",
    "    env.print_puzzle()"
   ]
  },
  {
   "cell_type": "code",
   "execution_count": 16,
   "id": "4727f6a4",
   "metadata": {},
   "outputs": [
    {
     "name": "stdout",
     "output_type": "stream",
     "text": [
      "0 5 2 \n",
      "1 8 3 \n",
      "4 7 6 \n"
     ]
    }
   ],
   "source": [
    "cust_puzzle3 = [[0, 5, 2],\n",
    "               [1, 8, 3],\n",
    "               [4, 7, 6]]\n",
    "cust_start3 = (0, 0)\n",
    "env = puzzle(n=9, puzzle=cust_puzzle3, start=cust_start3)\n",
    "env.print_puzzle()"
   ]
  },
  {
   "cell_type": "code",
   "execution_count": 17,
   "id": "ec5ba040",
   "metadata": {},
   "outputs": [
    {
     "name": "stdout",
     "output_type": "stream",
     "text": [
      "I moved:  1 Current score:  18\n",
      "1 5 2 \n",
      "0 8 3 \n",
      "4 7 6 \n",
      "I moved:  1 Current score:  15\n",
      "1 5 2 \n",
      "4 8 3 \n",
      "0 7 6 \n",
      "I moved:  3 Current score:  12\n",
      "1 5 2 \n",
      "4 8 3 \n",
      "7 0 6 \n",
      "I moved:  0 Current score:  11\n",
      "1 5 2 \n",
      "4 0 3 \n",
      "7 8 6 \n",
      "I moved:  0 Current score:  10\n",
      "1 0 2 \n",
      "4 5 3 \n",
      "7 8 6 \n",
      "I moved:  3 Current score:  7\n",
      "1 2 0 \n",
      "4 5 3 \n",
      "7 8 6 \n",
      "I moved:  1 Current score:  4\n",
      "1 2 3 \n",
      "4 5 0 \n",
      "7 8 6 \n",
      "I moved:  1 Current score:  0\n",
      "1 2 3 \n",
      "4 5 6 \n",
      "7 8 0 \n",
      "Solved the puzzle...\n",
      "1 2 3 \n",
      "4 5 6 \n",
      "7 8 0 \n"
     ]
    }
   ],
   "source": [
    "agent = puzzle_solver(env.start)\n",
    "status = True\n",
    "while(status):\n",
    "    status = agent.move(env)\n",
    "    env.print_puzzle()"
   ]
  },
  {
   "cell_type": "code",
   "execution_count": 18,
   "id": "df6efa24",
   "metadata": {},
   "outputs": [
    {
     "name": "stdout",
     "output_type": "stream",
     "text": [
      "2 4 0 \n",
      "1 5 3 \n",
      "7 8 6 \n"
     ]
    }
   ],
   "source": [
    "env = puzzle(n=9)\n",
    "env.print_puzzle()"
   ]
  },
  {
   "cell_type": "code",
   "execution_count": 19,
   "id": "ffdc6be7",
   "metadata": {},
   "outputs": [
    {
     "name": "stdout",
     "output_type": "stream",
     "text": [
      "I moved:  1 Current score:  11\n",
      "2 4 3 \n",
      "1 5 0 \n",
      "7 8 6 \n",
      "I moved:  1 Current score:  7\n",
      "2 4 3 \n",
      "1 5 6 \n",
      "7 8 0 \n",
      "I moved:  2 Current score:  11\n",
      "2 4 3 \n",
      "1 5 6 \n",
      "7 0 8 \n",
      "I moved:  0 Current score:  14\n",
      "2 4 3 \n",
      "1 0 6 \n",
      "7 5 8 \n",
      "I moved:  0 Current score:  14\n",
      "2 0 3 \n",
      "1 4 6 \n",
      "7 5 8 \n",
      "I moved:  2 Current score:  13\n",
      "0 2 3 \n",
      "1 4 6 \n",
      "7 5 8 \n",
      "I moved:  1 Current score:  10\n",
      "1 2 3 \n",
      "0 4 6 \n",
      "7 5 8 \n",
      "I moved:  3 Current score:  7\n",
      "1 2 3 \n",
      "4 0 6 \n",
      "7 5 8 \n",
      "I moved:  1 Current score:  4\n",
      "1 2 3 \n",
      "4 5 6 \n",
      "7 0 8 \n",
      "I moved:  3 Current score:  0\n",
      "1 2 3 \n",
      "4 5 6 \n",
      "7 8 0 \n",
      "Solved the puzzle...\n",
      "1 2 3 \n",
      "4 5 6 \n",
      "7 8 0 \n"
     ]
    }
   ],
   "source": [
    "agent = puzzle_solver(env.start)\n",
    "status = True\n",
    "while(status):\n",
    "    status = agent.move(env)\n",
    "    env.print_puzzle()"
   ]
  },
  {
   "cell_type": "code",
   "execution_count": null,
   "id": "a7f276bc",
   "metadata": {},
   "outputs": [],
   "source": []
  }
 ],
 "metadata": {
  "kernelspec": {
   "display_name": "Python 3 (ipykernel)",
   "language": "python",
   "name": "python3"
  },
  "language_info": {
   "codemirror_mode": {
    "name": "ipython",
    "version": 3
   },
   "file_extension": ".py",
   "mimetype": "text/x-python",
   "name": "python",
   "nbconvert_exporter": "python",
   "pygments_lexer": "ipython3",
   "version": "3.9.12"
  }
 },
 "nbformat": 4,
 "nbformat_minor": 5
}
