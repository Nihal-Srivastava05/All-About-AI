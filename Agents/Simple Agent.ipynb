{
 "cells": [
  {
   "cell_type": "markdown",
   "id": "30c381b9",
   "metadata": {},
   "source": [
    "# Simple Reflex Agent\n",
    "\n",
    "To make an application for a simple agent I have planned to make a small adventure game (Like a 2D platformer) where the agent has to move front and take the necessary action when he faces certain objects in front of it. Like possible actions are: \n",
    "<pre>\n",
    "Pit ('P')  ==> Jump\n",
    "Tree ('T') ==> Cut \n",
    "Animal ('A') ==> Hunt\n",
    "Land ('L') ==> Walk\n",
    "</pre>"
   ]
  },
  {
   "cell_type": "code",
   "execution_count": 1,
   "id": "ca0c3945",
   "metadata": {},
   "outputs": [],
   "source": [
    "import random"
   ]
  },
  {
   "cell_type": "code",
   "execution_count": 2,
   "id": "f376f570",
   "metadata": {},
   "outputs": [],
   "source": [
    "class game_environment:\n",
    "    def __init__(self, limit=None, area=None):\n",
    "        if(limit == None or area == None):\n",
    "            self.limit = random.randint(0, 15)\n",
    "            self.area = []\n",
    "            self.area.append('L')\n",
    "            for i in range(self.limit):\n",
    "                self.area.append(random.choice(['P', 'T', 'A', 'L']))\n",
    "        else:\n",
    "            self.limit = limit\n",
    "            area.insert(0, 'L')\n",
    "            self.area = area\n",
    "    \n",
    "    def get_limit(self):\n",
    "        return self.limit\n",
    "    \n",
    "    def get_area(self):\n",
    "        return self.area\n",
    "    \n",
    "    def show_area(self):\n",
    "        for i in range(self.limit):\n",
    "            if(self.area[i] == 'P'):\n",
    "                print(\"__Pit__\", end=' ')\n",
    "            elif(self.area[i] == 'T'):\n",
    "                print(\"__Tree__\", end=' ')\n",
    "            elif(self.area[i] == 'A'):\n",
    "                print(\"__Animal__\", end=' ')\n",
    "            elif(self.area[i] == 'L'):\n",
    "                print(\"__Land__\", end=' ')\n",
    "    \n",
    "    def get_position(self, pos):\n",
    "        return self.area[pos]"
   ]
  },
  {
   "cell_type": "code",
   "execution_count": 3,
   "id": "4a8d4a32",
   "metadata": {},
   "outputs": [],
   "source": [
    "class player_agent:\n",
    "    def __init__(self):\n",
    "        self.loc = 0\n",
    "        self.energy = 10\n",
    "        self.health = 10\n",
    "    \n",
    "    def get_stats(self):\n",
    "        print(\"Current Health:\",self.health, \"Current Energy:\", self.energy)\n",
    "    \n",
    "    def move(self, env):\n",
    "        if(self.health <= 0):\n",
    "            print(\"You are out of health, GAME OVER...\")\n",
    "            return False\n",
    "        elif(self.energy <= 0):\n",
    "            print(\"You are out of energy, GAME OVER...\")\n",
    "            return False\n",
    "        elif(self.loc < env.get_limit()):\n",
    "            if(env.get_position(self.loc) == 'L'):\n",
    "                self.energy += 1\n",
    "                self.health += 1\n",
    "                print(\"__Walk__\")\n",
    "                self.get_stats()\n",
    "            elif(env.get_position(self.loc) == 'P'):\n",
    "                self.energy -= 2\n",
    "                print(\"__Jump__\")\n",
    "                self.get_stats()\n",
    "            elif(env.get_position(self.loc) == 'T'):\n",
    "                self.energy -= 1\n",
    "                self.health -= 1\n",
    "                print(\"__Cut__\")\n",
    "                self.get_stats()\n",
    "            elif(env.get_position(self.loc) == 'A'):\n",
    "                self.health -= 2\n",
    "                print(\"__Hunt__\")\n",
    "                self.get_stats()\n",
    "            self.loc += 1\n",
    "            return True\n",
    "        else:\n",
    "            print(\"You have completed the game, you reached the end...\")\n",
    "            return False\n",
    "    \n",
    "    def tell_location(self):\n",
    "        print(\"I am currently at \", self.loc)"
   ]
  },
  {
   "cell_type": "code",
   "execution_count": 5,
   "id": "d29344bb",
   "metadata": {},
   "outputs": [
    {
     "name": "stdout",
     "output_type": "stream",
     "text": [
      "The Game limit is:  10\n",
      "__Land__ __Land__ __Tree__ __Tree__ __Pit__ __Pit__ __Animal__ __Land__ __Land__ __Tree__ "
     ]
    }
   ],
   "source": [
    "my_agent = player_agent()\n",
    "my_env = game_environment()\n",
    "\n",
    "print(\"The Game limit is: \", my_env.get_limit())\n",
    "my_env.show_area()"
   ]
  },
  {
   "cell_type": "code",
   "execution_count": 6,
   "id": "5e12c7db",
   "metadata": {},
   "outputs": [
    {
     "name": "stdout",
     "output_type": "stream",
     "text": [
      "__Walk__\n",
      "Current Health: 11 Current Energy: 11\n",
      "__Walk__\n",
      "Current Health: 12 Current Energy: 12\n",
      "__Cut__\n",
      "Current Health: 11 Current Energy: 11\n",
      "__Cut__\n",
      "Current Health: 10 Current Energy: 10\n",
      "__Jump__\n",
      "Current Health: 10 Current Energy: 8\n",
      "__Jump__\n",
      "Current Health: 10 Current Energy: 6\n",
      "__Hunt__\n",
      "Current Health: 8 Current Energy: 6\n",
      "__Walk__\n",
      "Current Health: 9 Current Energy: 7\n",
      "__Walk__\n",
      "Current Health: 10 Current Energy: 8\n",
      "__Cut__\n",
      "Current Health: 9 Current Energy: 7\n",
      "You have completed the game, you reached the end...\n"
     ]
    }
   ],
   "source": [
    "status = True\n",
    "while(status):\n",
    "    status = my_agent.move(my_env)"
   ]
  },
  {
   "cell_type": "code",
   "execution_count": null,
   "id": "1305d6c0",
   "metadata": {},
   "outputs": [],
   "source": []
  }
 ],
 "metadata": {
  "kernelspec": {
   "display_name": "Python 3 (ipykernel)",
   "language": "python",
   "name": "python3"
  },
  "language_info": {
   "codemirror_mode": {
    "name": "ipython",
    "version": 3
   },
   "file_extension": ".py",
   "mimetype": "text/x-python",
   "name": "python",
   "nbconvert_exporter": "python",
   "pygments_lexer": "ipython3",
   "version": "3.9.12"
  }
 },
 "nbformat": 4,
 "nbformat_minor": 5
}
