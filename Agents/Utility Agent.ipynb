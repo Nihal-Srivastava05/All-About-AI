{
 "cells": [
  {
   "cell_type": "markdown",
   "id": "2e3b72d3",
   "metadata": {},
   "source": [
    "# Utility Agent"
   ]
  },
  {
   "cell_type": "markdown",
   "id": "68d4c23f",
   "metadata": {},
   "source": [
    "This is a vaccume clearner agent with is a utility based agent which has a utility function which check if it will be closer to dirt if it made that move or another. Basically its happiness meter will be high if it is around many dirt particles and less if there are no dirt particles around it. So When it need to make a move it first sees its surrounding for dirt if present then goes there. If not then it has a vision of one block that is it will see that if it made a particular move will it find more dirt or no and then make the move which gives it the maximum happiness (that is max utility value)."
   ]
  },
  {
   "cell_type": "code",
   "execution_count": 1,
   "id": "00801809",
   "metadata": {},
   "outputs": [],
   "source": [
    "import random"
   ]
  },
  {
   "cell_type": "markdown",
   "id": "f10a3620",
   "metadata": {},
   "source": [
    "This is a room environment which either taken in a custom room as input or generates a room at random when given the dimensions. "
   ]
  },
  {
   "cell_type": "code",
   "execution_count": 2,
   "id": "6e352012",
   "metadata": {},
   "outputs": [],
   "source": [
    "class room_environment:\n",
    "    def __init__(self, n, m, room=None, dirt=None):\n",
    "        self.m = m\n",
    "        self.n = n\n",
    "        self.room = []\n",
    "        self.num_dirt = 0\n",
    "        if(room == None):\n",
    "            for i in range(self.n):\n",
    "                row = []\n",
    "                for j in range(self.m):\n",
    "                    row.append(0)\n",
    "                self.room.append(row)\n",
    "                \n",
    "            num_walls = random.choice([random.randint(self.n//2, self.n-1), random.randint(self.m//2, self.m-1)])\n",
    "            for i in range(num_walls):\n",
    "                wall_x = random.randint(0, self.m-1)\n",
    "                wall_y = random.randint(0, self.n-1)\n",
    "                self.room[wall_x][wall_y] = -1\n",
    "                \n",
    "            num_dirt = random.choice([random.randint(1, self.n//2), random.randint(1, self.m//2)])\n",
    "            self.num_dirt = num_dirt\n",
    "            for i in range(num_dirt):\n",
    "                dirt_x = random.randint(0, self.m-1)\n",
    "                dirt_y = random.randint(0, self.n-1)\n",
    "                self.room[dirt_x][dirt_y] = 1\n",
    "        else:\n",
    "            self.room = room\n",
    "            self.num_dirt = dirt\n",
    "    \n",
    "    def get_state(self, pos):\n",
    "        if(pos[0] >= self.m or pos[0] < 0 or pos[1] >= self.n or pos[1] < 0):\n",
    "            return -1\n",
    "        return self.room[pos[1]][pos[0]]\n",
    "    \n",
    "    def pickup_dirt(self, pos):\n",
    "        if(self.room[pos[1]][pos[0]] == 1):\n",
    "            self.room[pos[1]][pos[0]] = 0\n",
    "    \n",
    "    def dirt_count(self):\n",
    "        return self.num_dirt\n",
    "    \n",
    "    def print_room(self):\n",
    "        for i in range(self.n):\n",
    "            for j in range(self.m):\n",
    "                print(self.room[i][j], end=' ')\n",
    "            print()"
   ]
  },
  {
   "cell_type": "code",
   "execution_count": 3,
   "id": "3894bc6c",
   "metadata": {},
   "outputs": [],
   "source": [
    "room = room_environment(10, 10)"
   ]
  },
  {
   "cell_type": "code",
   "execution_count": 4,
   "id": "01a62e0f",
   "metadata": {},
   "outputs": [
    {
     "name": "stdout",
     "output_type": "stream",
     "text": [
      "0 0 0 -1 0 0 0 0 0 0 \n",
      "0 0 0 0 0 0 0 0 0 0 \n",
      "0 0 0 0 0 0 0 0 0 0 \n",
      "0 0 0 0 0 0 0 0 0 0 \n",
      "0 0 0 0 0 -1 0 1 0 0 \n",
      "0 0 0 -1 0 0 -1 0 0 0 \n",
      "0 0 0 0 0 0 0 0 0 0 \n",
      "0 0 0 0 0 0 0 0 0 -1 \n",
      "0 0 0 0 0 0 0 0 0 0 \n",
      "0 0 0 0 0 0 0 0 0 0 \n"
     ]
    }
   ],
   "source": [
    "room.print_room()"
   ]
  },
  {
   "cell_type": "code",
   "execution_count": 5,
   "id": "01a2a305",
   "metadata": {},
   "outputs": [
    {
     "data": {
      "text/plain": [
       "1"
      ]
     },
     "execution_count": 5,
     "metadata": {},
     "output_type": "execute_result"
    }
   ],
   "source": [
    "room.dirt_count()"
   ]
  },
  {
   "cell_type": "code",
   "execution_count": 6,
   "id": "3382656d",
   "metadata": {},
   "outputs": [
    {
     "data": {
      "text/plain": [
       "0"
      ]
     },
     "execution_count": 6,
     "metadata": {},
     "output_type": "execute_result"
    }
   ],
   "source": [
    "room.get_state((6, 3)) #get given positions state value"
   ]
  },
  {
   "cell_type": "code",
   "execution_count": 7,
   "id": "6cab7ed7",
   "metadata": {
    "scrolled": true
   },
   "outputs": [
    {
     "data": {
      "text/plain": [
       "0"
      ]
     },
     "execution_count": 7,
     "metadata": {},
     "output_type": "execute_result"
    }
   ],
   "source": [
    "room.pickup_dirt((6, 3)) #If dirt is present in the given state then pick it up\n",
    "room.get_state((6, 3)) #After pickup the state becomes empty"
   ]
  },
  {
   "cell_type": "markdown",
   "id": "5714c6ff",
   "metadata": {},
   "source": [
    "### Utility Agent"
   ]
  },
  {
   "cell_type": "code",
   "execution_count": 8,
   "id": "c400c281",
   "metadata": {},
   "outputs": [],
   "source": [
    "class cleaner_agent:\n",
    "    def __init__(self):\n",
    "        self.x = 0\n",
    "        self.y = 0\n",
    "        self.limit = 0\n",
    "        self.dirt_collected = 0\n",
    "        self.prev_move = -1\n",
    "    \n",
    "    def get_surroundings(self, x, y, room):          \n",
    "        surroundings = [room.get_state([x+1, y]),\n",
    "                        room.get_state([x, y+1]),\n",
    "                        room.get_state([x-1, y]),\n",
    "                        room.get_state([x, y-1])]\n",
    "        return surroundings\n",
    "    \n",
    "    def make_move(self, direction, room):\n",
    "        if(direction == 0):\n",
    "            if(self.x < room.m):\n",
    "                self.x += 1\n",
    "        elif(direction == 1):\n",
    "            if(self.y < room.n):\n",
    "                self.y += 1\n",
    "        elif(direction == 2):\n",
    "            if(self.x > 0):\n",
    "                self.x -= 1\n",
    "        else:\n",
    "            if(self.y > 0):\n",
    "                self.y -= 1\n",
    "            \n",
    "    def get_pos(self):\n",
    "        print(\"I am at:\", self.x, self.y, \" and picked up: \", self.dirt_collected, \" dirt.\")\n",
    "    \n",
    "    def move(self, room):\n",
    "        if(self.limit >= room.m*room.n):\n",
    "            print(\"Moves up...\")\n",
    "            return False\n",
    "        elif(self.dirt_collected == room.dirt_count()):\n",
    "            print(\"Collected All the Dirst, Job Done...\")\n",
    "            return False\n",
    "        else:\n",
    "            surroundings = self.get_surroundings(self.x, self.y, room)\n",
    "            dirt_around = []\n",
    "            for i in range(len(surroundings)):\n",
    "                if surroundings[i] == 1:\n",
    "                    dirt_around.append(i)\n",
    "            if(dirt_around):\n",
    "                rand_move = random.choice(dirt_around)\n",
    "                self.make_move(rand_move, room)\n",
    "                room.pickup_dirt([self.x, self.y])\n",
    "                self.limit -= room.n\n",
    "                self.prev_move = rand_move\n",
    "                self.dirt_collected += 1\n",
    "                self.limit += 1\n",
    "                return True\n",
    "            else:\n",
    "                possible_scores = [0, 0, 0, 0]\n",
    "                for i in range(self.x+1, room.m):\n",
    "                    if(room.get_state([i, self.y]) == 1):\n",
    "                        possible_scores[0] += 1\n",
    "                    elif(room.get_state([i, self.y]) == -1):\n",
    "                        break\n",
    "                for j in range(self.y+1, room.n):\n",
    "                    if(room.get_state([self.x, j]) == 1):\n",
    "                        possible_scores[1] += 1\n",
    "                    elif(room.get_state([self.x, j]) == -1):\n",
    "                        break\n",
    "                for i in range(self.x-1, -1, -1):\n",
    "                    if(room.get_state([i, self.y]) == 1):\n",
    "                        possible_scores[2] += 1\n",
    "                    elif(room.get_state([i, self.y]) == -1):\n",
    "                        break\n",
    "                for j in range(self.y-1, -1, -1):\n",
    "                    if(room.get_state([self.x, j]) == 1):\n",
    "                        possible_scores[3] += 1\n",
    "                    elif(room.get_state([self.x, j]) == -1):\n",
    "                        break\n",
    "\n",
    "                if(max(possible_scores) == 0):\n",
    "                    moves = [0, 1, 2, 3]\n",
    "                    if(self.prev_move == 0):\n",
    "                        moves.remove(2)\n",
    "                    elif(self.prev_move == 1):\n",
    "                        moves.remove(3)\n",
    "                    elif(self.prev_move == 2):\n",
    "                        moves.remove(0)\n",
    "                    elif(self.prev_move == 3):\n",
    "                        moves.remove(1)\n",
    "                    best_move = random.choice(moves)\n",
    "                else:\n",
    "                    best_move = possible_scores.index(max(possible_scores))\n",
    "                self.make_move(best_move, room)\n",
    "                self.prev_move = best_move\n",
    "                self.limit += 1\n",
    "                return True"
   ]
  },
  {
   "cell_type": "markdown",
   "id": "526e855c",
   "metadata": {},
   "source": [
    "## Runing the agent"
   ]
  },
  {
   "cell_type": "code",
   "execution_count": 9,
   "id": "26684396",
   "metadata": {},
   "outputs": [
    {
     "name": "stdout",
     "output_type": "stream",
     "text": [
      "0 0 -1 0 0 0 \n",
      "-1 0 0 0 0 0 \n",
      "0 0 0 0 0 -1 \n",
      "0 0 0 0 0 0 \n",
      "0 1 0 -1 0 0 \n",
      "0 0 0 0 0 0 \n",
      "Dirt count in the map:  1\n"
     ]
    }
   ],
   "source": [
    "my_agent = cleaner_agent()\n",
    "my_env = room_environment(6, 6)\n",
    "\n",
    "my_env.print_room()\n",
    "print(\"Dirt count in the map: \", my_env.dirt_count())"
   ]
  },
  {
   "cell_type": "code",
   "execution_count": 10,
   "id": "6d3cb3a3",
   "metadata": {},
   "outputs": [
    {
     "name": "stdout",
     "output_type": "stream",
     "text": [
      "I am at: 0 0  and picked up:  0  dirt.\n",
      "I am at: 0 0  and picked up:  0  dirt.\n",
      "I am at: 0 0  and picked up:  0  dirt.\n",
      "I am at: 0 0  and picked up:  0  dirt.\n",
      "I am at: 1 0  and picked up:  0  dirt.\n",
      "I am at: 1 1  and picked up:  0  dirt.\n",
      "I am at: 1 2  and picked up:  0  dirt.\n",
      "I am at: 1 3  and picked up:  0  dirt.\n",
      "I am at: 1 4  and picked up:  1  dirt.\n",
      "Collected All the Dirst, Job Done...\n",
      "I am at: 1 4  and picked up:  1  dirt.\n"
     ]
    }
   ],
   "source": [
    "status = True\n",
    "while(status):\n",
    "    status = my_agent.move(my_env)\n",
    "    my_agent.get_pos()"
   ]
  },
  {
   "cell_type": "code",
   "execution_count": 11,
   "id": "c9afe1cb",
   "metadata": {},
   "outputs": [
    {
     "name": "stdout",
     "output_type": "stream",
     "text": [
      "0 0 -1 0 0 0 \n",
      "-1 0 0 0 0 0 \n",
      "0 0 0 0 0 -1 \n",
      "0 0 0 0 0 0 \n",
      "0 0 0 -1 0 0 \n",
      "0 0 0 0 0 0 \n"
     ]
    }
   ],
   "source": [
    "my_env.print_room()"
   ]
  },
  {
   "cell_type": "code",
   "execution_count": null,
   "id": "624ed9b7",
   "metadata": {},
   "outputs": [],
   "source": []
  }
 ],
 "metadata": {
  "kernelspec": {
   "display_name": "Python 3 (ipykernel)",
   "language": "python",
   "name": "python3"
  },
  "language_info": {
   "codemirror_mode": {
    "name": "ipython",
    "version": 3
   },
   "file_extension": ".py",
   "mimetype": "text/x-python",
   "name": "python",
   "nbconvert_exporter": "python",
   "pygments_lexer": "ipython3",
   "version": "3.9.12"
  }
 },
 "nbformat": 4,
 "nbformat_minor": 5
}
