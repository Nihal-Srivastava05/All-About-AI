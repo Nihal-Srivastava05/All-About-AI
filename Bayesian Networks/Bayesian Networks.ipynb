{
 "cells": [
  {
   "cell_type": "markdown",
   "id": "97ee594f",
   "metadata": {},
   "source": [
    "# Bayesian Belief Networks"
   ]
  },
  {
   "cell_type": "code",
   "execution_count": 1,
   "id": "c9f65f1d",
   "metadata": {},
   "outputs": [],
   "source": [
    "import numpy as np\n",
    "import pandas as pd\n",
    "import networkx as nx\n",
    "import matplotlib.pyplot as plt"
   ]
  },
  {
   "cell_type": "markdown",
   "id": "0482237b",
   "metadata": {},
   "source": [
    "I have used a dataset from kaggle (https://www.kaggle.com/datasets/atharvaingle/crop-recommendation-dataset) which has attributes N (Nitrogen), P (Phosphorous), K (Potassium), Temperature, ph, rainfall and which crop will be the best based on that conditons. "
   ]
  },
  {
   "cell_type": "code",
   "execution_count": 2,
   "id": "154ff18a",
   "metadata": {},
   "outputs": [
    {
     "data": {
      "text/html": [
       "<div>\n",
       "<style scoped>\n",
       "    .dataframe tbody tr th:only-of-type {\n",
       "        vertical-align: middle;\n",
       "    }\n",
       "\n",
       "    .dataframe tbody tr th {\n",
       "        vertical-align: top;\n",
       "    }\n",
       "\n",
       "    .dataframe thead th {\n",
       "        text-align: right;\n",
       "    }\n",
       "</style>\n",
       "<table border=\"1\" class=\"dataframe\">\n",
       "  <thead>\n",
       "    <tr style=\"text-align: right;\">\n",
       "      <th></th>\n",
       "      <th>N</th>\n",
       "      <th>P</th>\n",
       "      <th>K</th>\n",
       "      <th>temperature</th>\n",
       "      <th>humidity</th>\n",
       "      <th>ph</th>\n",
       "      <th>rainfall</th>\n",
       "      <th>label</th>\n",
       "    </tr>\n",
       "  </thead>\n",
       "  <tbody>\n",
       "    <tr>\n",
       "      <th>0</th>\n",
       "      <td>90</td>\n",
       "      <td>42</td>\n",
       "      <td>43</td>\n",
       "      <td>20.879744</td>\n",
       "      <td>82.002744</td>\n",
       "      <td>6.502985</td>\n",
       "      <td>202.935536</td>\n",
       "      <td>rice</td>\n",
       "    </tr>\n",
       "    <tr>\n",
       "      <th>1</th>\n",
       "      <td>85</td>\n",
       "      <td>58</td>\n",
       "      <td>41</td>\n",
       "      <td>21.770462</td>\n",
       "      <td>80.319644</td>\n",
       "      <td>7.038096</td>\n",
       "      <td>226.655537</td>\n",
       "      <td>rice</td>\n",
       "    </tr>\n",
       "    <tr>\n",
       "      <th>2</th>\n",
       "      <td>60</td>\n",
       "      <td>55</td>\n",
       "      <td>44</td>\n",
       "      <td>23.004459</td>\n",
       "      <td>82.320763</td>\n",
       "      <td>7.840207</td>\n",
       "      <td>263.964248</td>\n",
       "      <td>rice</td>\n",
       "    </tr>\n",
       "    <tr>\n",
       "      <th>3</th>\n",
       "      <td>74</td>\n",
       "      <td>35</td>\n",
       "      <td>40</td>\n",
       "      <td>26.491096</td>\n",
       "      <td>80.158363</td>\n",
       "      <td>6.980401</td>\n",
       "      <td>242.864034</td>\n",
       "      <td>rice</td>\n",
       "    </tr>\n",
       "    <tr>\n",
       "      <th>4</th>\n",
       "      <td>78</td>\n",
       "      <td>42</td>\n",
       "      <td>42</td>\n",
       "      <td>20.130175</td>\n",
       "      <td>81.604873</td>\n",
       "      <td>7.628473</td>\n",
       "      <td>262.717340</td>\n",
       "      <td>rice</td>\n",
       "    </tr>\n",
       "  </tbody>\n",
       "</table>\n",
       "</div>"
      ],
      "text/plain": [
       "    N   P   K  temperature   humidity        ph    rainfall label\n",
       "0  90  42  43    20.879744  82.002744  6.502985  202.935536  rice\n",
       "1  85  58  41    21.770462  80.319644  7.038096  226.655537  rice\n",
       "2  60  55  44    23.004459  82.320763  7.840207  263.964248  rice\n",
       "3  74  35  40    26.491096  80.158363  6.980401  242.864034  rice\n",
       "4  78  42  42    20.130175  81.604873  7.628473  262.717340  rice"
      ]
     },
     "execution_count": 2,
     "metadata": {},
     "output_type": "execute_result"
    }
   ],
   "source": [
    "df = pd.read_csv('./Crop_recommendation.csv')\n",
    "df.head()"
   ]
  },
  {
   "cell_type": "code",
   "execution_count": 3,
   "id": "f58524b6",
   "metadata": {},
   "outputs": [
    {
     "name": "stdout",
     "output_type": "stream",
     "text": [
      "<class 'pandas.core.frame.DataFrame'>\n",
      "RangeIndex: 2200 entries, 0 to 2199\n",
      "Data columns (total 8 columns):\n",
      " #   Column       Non-Null Count  Dtype  \n",
      "---  ------       --------------  -----  \n",
      " 0   N            2200 non-null   int64  \n",
      " 1   P            2200 non-null   int64  \n",
      " 2   K            2200 non-null   int64  \n",
      " 3   temperature  2200 non-null   float64\n",
      " 4   humidity     2200 non-null   float64\n",
      " 5   ph           2200 non-null   float64\n",
      " 6   rainfall     2200 non-null   float64\n",
      " 7   label        2200 non-null   object \n",
      "dtypes: float64(4), int64(3), object(1)\n",
      "memory usage: 137.6+ KB\n"
     ]
    }
   ],
   "source": [
    "df.info()"
   ]
  },
  {
   "cell_type": "code",
   "execution_count": 4,
   "id": "465ccffc",
   "metadata": {},
   "outputs": [
    {
     "data": {
      "text/html": [
       "<div>\n",
       "<style scoped>\n",
       "    .dataframe tbody tr th:only-of-type {\n",
       "        vertical-align: middle;\n",
       "    }\n",
       "\n",
       "    .dataframe tbody tr th {\n",
       "        vertical-align: top;\n",
       "    }\n",
       "\n",
       "    .dataframe thead th {\n",
       "        text-align: right;\n",
       "    }\n",
       "</style>\n",
       "<table border=\"1\" class=\"dataframe\">\n",
       "  <thead>\n",
       "    <tr style=\"text-align: right;\">\n",
       "      <th></th>\n",
       "      <th>N</th>\n",
       "      <th>P</th>\n",
       "      <th>K</th>\n",
       "      <th>temperature</th>\n",
       "      <th>humidity</th>\n",
       "      <th>ph</th>\n",
       "      <th>rainfall</th>\n",
       "    </tr>\n",
       "  </thead>\n",
       "  <tbody>\n",
       "    <tr>\n",
       "      <th>count</th>\n",
       "      <td>2200.000000</td>\n",
       "      <td>2200.000000</td>\n",
       "      <td>2200.000000</td>\n",
       "      <td>2200.000000</td>\n",
       "      <td>2200.000000</td>\n",
       "      <td>2200.000000</td>\n",
       "      <td>2200.000000</td>\n",
       "    </tr>\n",
       "    <tr>\n",
       "      <th>mean</th>\n",
       "      <td>50.551818</td>\n",
       "      <td>53.362727</td>\n",
       "      <td>48.149091</td>\n",
       "      <td>25.616244</td>\n",
       "      <td>71.481779</td>\n",
       "      <td>6.469480</td>\n",
       "      <td>103.463655</td>\n",
       "    </tr>\n",
       "    <tr>\n",
       "      <th>std</th>\n",
       "      <td>36.917334</td>\n",
       "      <td>32.985883</td>\n",
       "      <td>50.647931</td>\n",
       "      <td>5.063749</td>\n",
       "      <td>22.263812</td>\n",
       "      <td>0.773938</td>\n",
       "      <td>54.958389</td>\n",
       "    </tr>\n",
       "    <tr>\n",
       "      <th>min</th>\n",
       "      <td>0.000000</td>\n",
       "      <td>5.000000</td>\n",
       "      <td>5.000000</td>\n",
       "      <td>8.825675</td>\n",
       "      <td>14.258040</td>\n",
       "      <td>3.504752</td>\n",
       "      <td>20.211267</td>\n",
       "    </tr>\n",
       "    <tr>\n",
       "      <th>25%</th>\n",
       "      <td>21.000000</td>\n",
       "      <td>28.000000</td>\n",
       "      <td>20.000000</td>\n",
       "      <td>22.769375</td>\n",
       "      <td>60.261953</td>\n",
       "      <td>5.971693</td>\n",
       "      <td>64.551686</td>\n",
       "    </tr>\n",
       "    <tr>\n",
       "      <th>50%</th>\n",
       "      <td>37.000000</td>\n",
       "      <td>51.000000</td>\n",
       "      <td>32.000000</td>\n",
       "      <td>25.598693</td>\n",
       "      <td>80.473146</td>\n",
       "      <td>6.425045</td>\n",
       "      <td>94.867624</td>\n",
       "    </tr>\n",
       "    <tr>\n",
       "      <th>75%</th>\n",
       "      <td>84.250000</td>\n",
       "      <td>68.000000</td>\n",
       "      <td>49.000000</td>\n",
       "      <td>28.561654</td>\n",
       "      <td>89.948771</td>\n",
       "      <td>6.923643</td>\n",
       "      <td>124.267508</td>\n",
       "    </tr>\n",
       "    <tr>\n",
       "      <th>max</th>\n",
       "      <td>140.000000</td>\n",
       "      <td>145.000000</td>\n",
       "      <td>205.000000</td>\n",
       "      <td>43.675493</td>\n",
       "      <td>99.981876</td>\n",
       "      <td>9.935091</td>\n",
       "      <td>298.560117</td>\n",
       "    </tr>\n",
       "  </tbody>\n",
       "</table>\n",
       "</div>"
      ],
      "text/plain": [
       "                 N            P            K  temperature     humidity  \\\n",
       "count  2200.000000  2200.000000  2200.000000  2200.000000  2200.000000   \n",
       "mean     50.551818    53.362727    48.149091    25.616244    71.481779   \n",
       "std      36.917334    32.985883    50.647931     5.063749    22.263812   \n",
       "min       0.000000     5.000000     5.000000     8.825675    14.258040   \n",
       "25%      21.000000    28.000000    20.000000    22.769375    60.261953   \n",
       "50%      37.000000    51.000000    32.000000    25.598693    80.473146   \n",
       "75%      84.250000    68.000000    49.000000    28.561654    89.948771   \n",
       "max     140.000000   145.000000   205.000000    43.675493    99.981876   \n",
       "\n",
       "                ph     rainfall  \n",
       "count  2200.000000  2200.000000  \n",
       "mean      6.469480   103.463655  \n",
       "std       0.773938    54.958389  \n",
       "min       3.504752    20.211267  \n",
       "25%       5.971693    64.551686  \n",
       "50%       6.425045    94.867624  \n",
       "75%       6.923643   124.267508  \n",
       "max       9.935091   298.560117  "
      ]
     },
     "execution_count": 4,
     "metadata": {},
     "output_type": "execute_result"
    }
   ],
   "source": [
    "df_desc = df.describe()\n",
    "df_desc"
   ]
  },
  {
   "cell_type": "markdown",
   "id": "48cb842f",
   "metadata": {},
   "source": [
    "Converting continous values into categorical as it will be easier to understand and visuilize the probabilities in bayesian networks."
   ]
  },
  {
   "cell_type": "code",
   "execution_count": 5,
   "id": "1e5f7ad3",
   "metadata": {},
   "outputs": [],
   "source": [
    "def convert_into_categorical(column_name, x):\n",
    "    quartile_2 = df_desc[column_name]['25%']\n",
    "    quartile_3 = df_desc[column_name]['75%']\n",
    "    if(x<quartile_2):\n",
    "        return 'low'\n",
    "    elif(x>quartile_2 and x<quartile_3):\n",
    "        return 'medium'\n",
    "    else:\n",
    "        return 'high'"
   ]
  },
  {
   "cell_type": "code",
   "execution_count": 6,
   "id": "8f8ae0b7",
   "metadata": {},
   "outputs": [],
   "source": [
    "df['N'] = df['N'].apply(lambda x: convert_into_categorical('N', x))\n",
    "df['P'] = df['P'].apply(lambda x: convert_into_categorical('P', x))\n",
    "df['K'] = df['K'].apply(lambda x: convert_into_categorical('K', x))\n",
    "df['temperature'] = df['temperature'].apply(lambda x: convert_into_categorical('temperature', x))\n",
    "df['humidity'] = df['humidity'].apply(lambda x: convert_into_categorical('humidity', x))\n",
    "df['ph'] = df['ph'].apply(lambda x: convert_into_categorical('ph', x))\n",
    "df['rainfall'] = df['rainfall'].apply(lambda x: convert_into_categorical('rainfall', x))"
   ]
  },
  {
   "cell_type": "code",
   "execution_count": 7,
   "id": "4ac14a26",
   "metadata": {},
   "outputs": [
    {
     "data": {
      "text/html": [
       "<div>\n",
       "<style scoped>\n",
       "    .dataframe tbody tr th:only-of-type {\n",
       "        vertical-align: middle;\n",
       "    }\n",
       "\n",
       "    .dataframe tbody tr th {\n",
       "        vertical-align: top;\n",
       "    }\n",
       "\n",
       "    .dataframe thead th {\n",
       "        text-align: right;\n",
       "    }\n",
       "</style>\n",
       "<table border=\"1\" class=\"dataframe\">\n",
       "  <thead>\n",
       "    <tr style=\"text-align: right;\">\n",
       "      <th></th>\n",
       "      <th>N</th>\n",
       "      <th>P</th>\n",
       "      <th>K</th>\n",
       "      <th>temperature</th>\n",
       "      <th>humidity</th>\n",
       "      <th>ph</th>\n",
       "      <th>rainfall</th>\n",
       "      <th>label</th>\n",
       "    </tr>\n",
       "  </thead>\n",
       "  <tbody>\n",
       "    <tr>\n",
       "      <th>0</th>\n",
       "      <td>high</td>\n",
       "      <td>medium</td>\n",
       "      <td>medium</td>\n",
       "      <td>low</td>\n",
       "      <td>medium</td>\n",
       "      <td>medium</td>\n",
       "      <td>high</td>\n",
       "      <td>rice</td>\n",
       "    </tr>\n",
       "    <tr>\n",
       "      <th>1</th>\n",
       "      <td>high</td>\n",
       "      <td>medium</td>\n",
       "      <td>medium</td>\n",
       "      <td>low</td>\n",
       "      <td>medium</td>\n",
       "      <td>high</td>\n",
       "      <td>high</td>\n",
       "      <td>rice</td>\n",
       "    </tr>\n",
       "    <tr>\n",
       "      <th>2</th>\n",
       "      <td>medium</td>\n",
       "      <td>medium</td>\n",
       "      <td>medium</td>\n",
       "      <td>medium</td>\n",
       "      <td>medium</td>\n",
       "      <td>high</td>\n",
       "      <td>high</td>\n",
       "      <td>rice</td>\n",
       "    </tr>\n",
       "    <tr>\n",
       "      <th>3</th>\n",
       "      <td>medium</td>\n",
       "      <td>medium</td>\n",
       "      <td>medium</td>\n",
       "      <td>medium</td>\n",
       "      <td>medium</td>\n",
       "      <td>high</td>\n",
       "      <td>high</td>\n",
       "      <td>rice</td>\n",
       "    </tr>\n",
       "    <tr>\n",
       "      <th>4</th>\n",
       "      <td>medium</td>\n",
       "      <td>medium</td>\n",
       "      <td>medium</td>\n",
       "      <td>low</td>\n",
       "      <td>medium</td>\n",
       "      <td>high</td>\n",
       "      <td>high</td>\n",
       "      <td>rice</td>\n",
       "    </tr>\n",
       "    <tr>\n",
       "      <th>...</th>\n",
       "      <td>...</td>\n",
       "      <td>...</td>\n",
       "      <td>...</td>\n",
       "      <td>...</td>\n",
       "      <td>...</td>\n",
       "      <td>...</td>\n",
       "      <td>...</td>\n",
       "      <td>...</td>\n",
       "    </tr>\n",
       "    <tr>\n",
       "      <th>2195</th>\n",
       "      <td>high</td>\n",
       "      <td>medium</td>\n",
       "      <td>medium</td>\n",
       "      <td>medium</td>\n",
       "      <td>medium</td>\n",
       "      <td>medium</td>\n",
       "      <td>high</td>\n",
       "      <td>coffee</td>\n",
       "    </tr>\n",
       "    <tr>\n",
       "      <th>2196</th>\n",
       "      <td>high</td>\n",
       "      <td>low</td>\n",
       "      <td>medium</td>\n",
       "      <td>medium</td>\n",
       "      <td>low</td>\n",
       "      <td>medium</td>\n",
       "      <td>high</td>\n",
       "      <td>coffee</td>\n",
       "    </tr>\n",
       "    <tr>\n",
       "      <th>2197</th>\n",
       "      <td>high</td>\n",
       "      <td>medium</td>\n",
       "      <td>medium</td>\n",
       "      <td>medium</td>\n",
       "      <td>medium</td>\n",
       "      <td>medium</td>\n",
       "      <td>high</td>\n",
       "      <td>coffee</td>\n",
       "    </tr>\n",
       "    <tr>\n",
       "      <th>2198</th>\n",
       "      <td>high</td>\n",
       "      <td>medium</td>\n",
       "      <td>medium</td>\n",
       "      <td>medium</td>\n",
       "      <td>low</td>\n",
       "      <td>medium</td>\n",
       "      <td>high</td>\n",
       "      <td>coffee</td>\n",
       "    </tr>\n",
       "    <tr>\n",
       "      <th>2199</th>\n",
       "      <td>high</td>\n",
       "      <td>low</td>\n",
       "      <td>medium</td>\n",
       "      <td>medium</td>\n",
       "      <td>medium</td>\n",
       "      <td>medium</td>\n",
       "      <td>high</td>\n",
       "      <td>coffee</td>\n",
       "    </tr>\n",
       "  </tbody>\n",
       "</table>\n",
       "<p>2200 rows × 8 columns</p>\n",
       "</div>"
      ],
      "text/plain": [
       "           N       P       K temperature humidity      ph rainfall   label\n",
       "0       high  medium  medium         low   medium  medium     high    rice\n",
       "1       high  medium  medium         low   medium    high     high    rice\n",
       "2     medium  medium  medium      medium   medium    high     high    rice\n",
       "3     medium  medium  medium      medium   medium    high     high    rice\n",
       "4     medium  medium  medium         low   medium    high     high    rice\n",
       "...      ...     ...     ...         ...      ...     ...      ...     ...\n",
       "2195    high  medium  medium      medium   medium  medium     high  coffee\n",
       "2196    high     low  medium      medium      low  medium     high  coffee\n",
       "2197    high  medium  medium      medium   medium  medium     high  coffee\n",
       "2198    high  medium  medium      medium      low  medium     high  coffee\n",
       "2199    high     low  medium      medium   medium  medium     high  coffee\n",
       "\n",
       "[2200 rows x 8 columns]"
      ]
     },
     "execution_count": 7,
     "metadata": {},
     "output_type": "execute_result"
    }
   ],
   "source": [
    "df"
   ]
  },
  {
   "cell_type": "code",
   "execution_count": 8,
   "id": "2532005c",
   "metadata": {},
   "outputs": [
    {
     "data": {
      "text/plain": [
       "N              0\n",
       "P              0\n",
       "K              0\n",
       "temperature    0\n",
       "humidity       0\n",
       "ph             0\n",
       "rainfall       0\n",
       "label          0\n",
       "dtype: int64"
      ]
     },
     "execution_count": 8,
     "metadata": {},
     "output_type": "execute_result"
    }
   ],
   "source": [
    "df.isnull().sum()"
   ]
  },
  {
   "cell_type": "code",
   "execution_count": 9,
   "id": "a4bcc84d",
   "metadata": {},
   "outputs": [
    {
     "data": {
      "text/plain": [
       "N              0\n",
       "P              0\n",
       "K              0\n",
       "temperature    0\n",
       "humidity       0\n",
       "ph             0\n",
       "rainfall       0\n",
       "label          0\n",
       "dtype: int64"
      ]
     },
     "execution_count": 9,
     "metadata": {},
     "output_type": "execute_result"
    }
   ],
   "source": [
    "df.isna().sum()"
   ]
  },
  {
   "cell_type": "markdown",
   "id": "f938ac1d",
   "metadata": {},
   "source": [
    "## Making a Bayesian network"
   ]
  },
  {
   "cell_type": "code",
   "execution_count": 10,
   "id": "217b6c43",
   "metadata": {},
   "outputs": [],
   "source": [
    "from pybbn.graph.dag import Bbn\n",
    "from pybbn.graph.edge import Edge, EdgeType\n",
    "from pybbn.graph.jointree import EvidenceBuilder\n",
    "from pybbn.graph.node import BbnNode\n",
    "from pybbn.graph.variable import Variable\n",
    "from pybbn.pptc.inferencecontroller import InferenceController"
   ]
  },
  {
   "cell_type": "markdown",
   "id": "aa3c75bc",
   "metadata": {},
   "source": [
    "Getting the probabilities"
   ]
  },
  {
   "cell_type": "code",
   "execution_count": 11,
   "id": "18aceacb",
   "metadata": {},
   "outputs": [
    {
     "data": {
      "text/plain": [
       "high      0.262727\n",
       "low       0.243636\n",
       "medium    0.493636\n",
       "Name: N, dtype: float64"
      ]
     },
     "execution_count": 11,
     "metadata": {},
     "output_type": "execute_result"
    }
   ],
   "source": [
    "df['N'].value_counts().sort_index() / len(df)"
   ]
  },
  {
   "cell_type": "code",
   "execution_count": 12,
   "id": "8ea0a11d",
   "metadata": {},
   "outputs": [],
   "source": [
    "def probs(data, child, parent1=None, parent2=None):\n",
    "    if parent1==None:\n",
    "        prob=pd.crosstab(data[child], 'Empty', margins=False, normalize='columns').sort_index().to_numpy().reshape(-1).tolist()\n",
    "    elif parent1!=None:\n",
    "            if parent2==None:\n",
    "                prob=pd.crosstab(data[parent1],data[child], margins=False, normalize='index').sort_index().to_numpy().reshape(-1).tolist()\n",
    "            else:    \n",
    "                prob=pd.crosstab([data[parent1],data[parent2]],data[child], margins=False, normalize='index').sort_index().to_numpy().reshape(-1).tolist()\n",
    "    else:\n",
    "        print(\"Error in Probability Frequency Calculations\")\n",
    "        \n",
    "    return prob  "
   ]
  },
  {
   "cell_type": "code",
   "execution_count": 13,
   "id": "30b53e9a",
   "metadata": {},
   "outputs": [
    {
     "data": {
      "text/plain": [
       "[0.26272727272727275, 0.24363636363636362, 0.49363636363636365]"
      ]
     },
     "execution_count": 13,
     "metadata": {},
     "output_type": "execute_result"
    }
   ],
   "source": [
    "probs(df, 'N')"
   ]
  },
  {
   "cell_type": "code",
   "execution_count": 14,
   "id": "fc2fce5c",
   "metadata": {},
   "outputs": [
    {
     "data": {
      "text/plain": [
       "array(['rice', 'maize', 'chickpea', 'kidneybeans', 'pigeonpeas',\n",
       "       'mothbeans', 'mungbean', 'blackgram', 'lentil', 'pomegranate',\n",
       "       'banana', 'mango', 'grapes', 'watermelon', 'muskmelon', 'apple',\n",
       "       'orange', 'papaya', 'coconut', 'cotton', 'jute', 'coffee'],\n",
       "      dtype=object)"
      ]
     },
     "execution_count": 14,
     "metadata": {},
     "output_type": "execute_result"
    }
   ],
   "source": [
    "df['label'].unique()"
   ]
  },
  {
   "cell_type": "code",
   "execution_count": 15,
   "id": "062f97b6",
   "metadata": {},
   "outputs": [
    {
     "data": {
      "text/html": [
       "<div>\n",
       "<style scoped>\n",
       "    .dataframe tbody tr th:only-of-type {\n",
       "        vertical-align: middle;\n",
       "    }\n",
       "\n",
       "    .dataframe tbody tr th {\n",
       "        vertical-align: top;\n",
       "    }\n",
       "\n",
       "    .dataframe thead th {\n",
       "        text-align: right;\n",
       "    }\n",
       "</style>\n",
       "<table border=\"1\" class=\"dataframe\">\n",
       "  <thead>\n",
       "    <tr style=\"text-align: right;\">\n",
       "      <th></th>\n",
       "      <th>N</th>\n",
       "      <th>P</th>\n",
       "      <th>K</th>\n",
       "      <th>temperature</th>\n",
       "      <th>humidity</th>\n",
       "      <th>ph</th>\n",
       "      <th>rainfall</th>\n",
       "      <th>label</th>\n",
       "    </tr>\n",
       "  </thead>\n",
       "  <tbody>\n",
       "    <tr>\n",
       "      <th>0</th>\n",
       "      <td>high</td>\n",
       "      <td>medium</td>\n",
       "      <td>medium</td>\n",
       "      <td>low</td>\n",
       "      <td>medium</td>\n",
       "      <td>medium</td>\n",
       "      <td>high</td>\n",
       "      <td>rice</td>\n",
       "    </tr>\n",
       "    <tr>\n",
       "      <th>1</th>\n",
       "      <td>high</td>\n",
       "      <td>medium</td>\n",
       "      <td>medium</td>\n",
       "      <td>low</td>\n",
       "      <td>medium</td>\n",
       "      <td>high</td>\n",
       "      <td>high</td>\n",
       "      <td>rice</td>\n",
       "    </tr>\n",
       "    <tr>\n",
       "      <th>2</th>\n",
       "      <td>medium</td>\n",
       "      <td>medium</td>\n",
       "      <td>medium</td>\n",
       "      <td>medium</td>\n",
       "      <td>medium</td>\n",
       "      <td>high</td>\n",
       "      <td>high</td>\n",
       "      <td>rice</td>\n",
       "    </tr>\n",
       "    <tr>\n",
       "      <th>3</th>\n",
       "      <td>medium</td>\n",
       "      <td>medium</td>\n",
       "      <td>medium</td>\n",
       "      <td>medium</td>\n",
       "      <td>medium</td>\n",
       "      <td>high</td>\n",
       "      <td>high</td>\n",
       "      <td>rice</td>\n",
       "    </tr>\n",
       "    <tr>\n",
       "      <th>4</th>\n",
       "      <td>medium</td>\n",
       "      <td>medium</td>\n",
       "      <td>medium</td>\n",
       "      <td>low</td>\n",
       "      <td>medium</td>\n",
       "      <td>high</td>\n",
       "      <td>high</td>\n",
       "      <td>rice</td>\n",
       "    </tr>\n",
       "  </tbody>\n",
       "</table>\n",
       "</div>"
      ],
      "text/plain": [
       "        N       P       K temperature humidity      ph rainfall label\n",
       "0    high  medium  medium         low   medium  medium     high  rice\n",
       "1    high  medium  medium         low   medium    high     high  rice\n",
       "2  medium  medium  medium      medium   medium    high     high  rice\n",
       "3  medium  medium  medium      medium   medium    high     high  rice\n",
       "4  medium  medium  medium         low   medium    high     high  rice"
      ]
     },
     "execution_count": 15,
     "metadata": {},
     "output_type": "execute_result"
    }
   ],
   "source": [
    "df.head()"
   ]
  },
  {
   "cell_type": "code",
   "execution_count": 16,
   "id": "64eb1d44",
   "metadata": {},
   "outputs": [
    {
     "data": {
      "text/plain": [
       "Index(['N', 'P', 'K', 'temperature', 'humidity', 'ph', 'rainfall', 'label'], dtype='object')"
      ]
     },
     "execution_count": 16,
     "metadata": {},
     "output_type": "execute_result"
    }
   ],
   "source": [
    "df.columns"
   ]
  },
  {
   "cell_type": "markdown",
   "id": "fadf1a44",
   "metadata": {},
   "source": [
    "Here I have added the relations that N, P, K and temperature are independent. humidity depends on temperature. ph depend on N and P. Rainfall depends on temperatue and humidity, Finally Crop depends on ph and rainfall. "
   ]
  },
  {
   "cell_type": "code",
   "execution_count": 17,
   "id": "5ebfdfe9",
   "metadata": {},
   "outputs": [],
   "source": [
    "from pybbn.graph.factory import Factory\n",
    "\n",
    "structure = {\n",
    "    'N': [],\n",
    "    'P': [],\n",
    "    'K': [],\n",
    "    'temperature': [],\n",
    "    'humidity': ['temperature'],\n",
    "    'ph': ['N', 'P'],\n",
    "    'rainfall': ['temperature', 'humidity'],\n",
    "    'label': ['ph', 'rainfall']\n",
    "}\n",
    "\n",
    "bbn = Factory.from_data(structure, df)"
   ]
  },
  {
   "cell_type": "code",
   "execution_count": 18,
   "id": "d2e2b6e5",
   "metadata": {},
   "outputs": [],
   "source": [
    "from pybbn.pptc.inferencecontroller import InferenceController\n",
    "\n",
    "join_tree = InferenceController.apply(bbn)"
   ]
  },
  {
   "cell_type": "code",
   "execution_count": 19,
   "id": "c491ca9a",
   "metadata": {},
   "outputs": [
    {
     "data": {
      "image/png": "[encoded data removed]",
      "text/plain": [
       "<Figure size 432x288 with 1 Axes>"
      ]
     },
     "metadata": {},
     "output_type": "display_data"
    }
   ],
   "source": [
    "n, d = bbn.to_nx_graph()\n",
    "nx.draw(n, with_labels=True, labels=d, node_color='r', alpha=0.5, font_weight='bold')\n",
    "plt.show()"
   ]
  },
  {
   "cell_type": "code",
   "execution_count": 20,
   "id": "e1f84a0b",
   "metadata": {},
   "outputs": [],
   "source": [
    "def print_probs():\n",
    "    for node in join_tree.get_bbn_nodes():\n",
    "        potential = join_tree.get_bbn_potential(node)\n",
    "        print(\"Node:\", node)\n",
    "        print(\"Values:\")\n",
    "        print(potential)\n",
    "        print('----------------')"
   ]
  },
  {
   "cell_type": "markdown",
   "id": "5d97a4d1",
   "metadata": {},
   "source": [
    "Now we will first find the probabilities of the default values with no additional inference given."
   ]
  },
  {
   "cell_type": "code",
   "execution_count": 21,
   "id": "525dbc5d",
   "metadata": {},
   "outputs": [
    {
     "name": "stdout",
     "output_type": "stream",
     "text": [
      "Node: 27|K|high,low,medium\n",
      "Values:\n",
      "27=high|0.28773\n",
      "27=low|0.21727\n",
      "27=medium|0.49500\n",
      "----------------\n",
      "Node: 26|P|high,low,medium\n",
      "Values:\n",
      "26=high|0.26636\n",
      "26=low|0.24545\n",
      "26=medium|0.48818\n",
      "----------------\n",
      "Node: 30|ph|high,low,medium\n",
      "Values:\n",
      "30=high|0.24679\n",
      "30=low|0.26019\n",
      "30=medium|0.49302\n",
      "----------------\n",
      "Node: 25|N|high,low,medium\n",
      "Values:\n",
      "25=high|0.26273\n",
      "25=low|0.24364\n",
      "25=medium|0.49364\n",
      "----------------\n",
      "Node: 29|humidity|high,low,medium\n",
      "Values:\n",
      "29=high|0.25000\n",
      "29=low|0.25000\n",
      "29=medium|0.50000\n",
      "----------------\n",
      "Node: 31|rainfall|high,low,medium\n",
      "Values:\n",
      "31=high|0.24491\n",
      "31=low|0.25164\n",
      "31=medium|0.50345\n",
      "----------------\n",
      "Node: 28|temperature|high,low,medium\n",
      "Values:\n",
      "28=high|0.25000\n",
      "28=low|0.25000\n",
      "28=medium|0.50000\n",
      "----------------\n",
      "Node: 32|label|apple,banana,blackgram,chickpea,coconut,coffee,cotton,grapes,jute,kidneybeans,lentil,maize,mango,mothbeans,mungbean,muskmelon,orange,papaya,pigeonpeas,pomegranate,rice,watermelon\n",
      "Values:\n",
      "32=apple|0.04309\n",
      "32=banana|0.04444\n",
      "32=blackgram|0.04607\n",
      "32=chickpea|0.04839\n",
      "32=coconut|0.04377\n",
      "32=coffee|0.04611\n",
      "32=cotton|0.04754\n",
      "32=grapes|0.04485\n",
      "32=jute|0.04562\n",
      "32=kidneybeans|0.04840\n",
      "32=lentil|0.04237\n",
      "32=maize|0.04744\n",
      "32=mango|0.04307\n",
      "32=mothbeans|0.07268\n",
      "32=mungbean|0.03689\n",
      "32=muskmelon|0.03535\n",
      "32=orange|0.04869\n",
      "32=papaya|0.04536\n",
      "32=pigeonpeas|0.04299\n",
      "32=pomegranate|0.04688\n",
      "32=rice|0.04433\n",
      "32=watermelon|0.03568\n",
      "----------------\n"
     ]
    }
   ],
   "source": [
    "print_probs()"
   ]
  },
  {
   "cell_type": "markdown",
   "id": "a2590bcd",
   "metadata": {},
   "source": [
    "Best crop to grow when no conditions are given is \"mothbeans\" as it has the highest probablity"
   ]
  },
  {
   "cell_type": "code",
   "execution_count": 22,
   "id": "a1172d75",
   "metadata": {},
   "outputs": [],
   "source": [
    "def evidence(ev, nod, cat, val):\n",
    "    ev = EvidenceBuilder() \\\n",
    "    .with_node(join_tree.get_bbn_node_by_name(nod)) \\\n",
    "    .with_evidence(cat, val) \\\n",
    "    .build()\n",
    "    join_tree.set_observation(ev)"
   ]
  },
  {
   "cell_type": "markdown",
   "id": "dfa32073",
   "metadata": {},
   "source": [
    "Now we can assume that a certain evidence is given and add that observation into our join_tree and then print the probabilities."
   ]
  },
  {
   "cell_type": "code",
   "execution_count": 23,
   "id": "b6e0ccfa",
   "metadata": {},
   "outputs": [
    {
     "name": "stdout",
     "output_type": "stream",
     "text": [
      "Node: 27|K|high,low,medium\n",
      "Values:\n",
      "27=high|0.28773\n",
      "27=low|0.21727\n",
      "27=medium|0.49500\n",
      "----------------\n",
      "Node: 26|P|high,low,medium\n",
      "Values:\n",
      "26=high|0.26636\n",
      "26=low|0.24545\n",
      "26=medium|0.48818\n",
      "----------------\n",
      "Node: 30|ph|high,low,medium\n",
      "Values:\n",
      "30=high|0.20601\n",
      "30=low|0.16567\n",
      "30=medium|0.62832\n",
      "----------------\n",
      "Node: 25|N|high,low,medium\n",
      "Values:\n",
      "25=high|1.00000\n",
      "25=low|0.00000\n",
      "25=medium|0.00000\n",
      "----------------\n",
      "Node: 29|humidity|high,low,medium\n",
      "Values:\n",
      "29=high|0.23455\n",
      "29=low|0.38182\n",
      "29=medium|0.38364\n",
      "----------------\n",
      "Node: 31|rainfall|high,low,medium\n",
      "Values:\n",
      "31=high|0.27308\n",
      "31=low|0.15017\n",
      "31=medium|0.57675\n",
      "----------------\n",
      "Node: 28|temperature|high,low,medium\n",
      "Values:\n",
      "28=high|0.00000\n",
      "28=low|1.00000\n",
      "28=medium|0.00000\n",
      "----------------\n",
      "Node: 32|label|apple,banana,blackgram,chickpea,coconut,coffee,cotton,grapes,jute,kidneybeans,lentil,maize,mango,mothbeans,mungbean,muskmelon,orange,papaya,pigeonpeas,pomegranate,rice,watermelon\n",
      "Values:\n",
      "32=apple|0.04669\n",
      "32=banana|0.05148\n",
      "32=blackgram|0.04674\n",
      "32=chickpea|0.05529\n",
      "32=coconut|0.04799\n",
      "32=coffee|0.05679\n",
      "32=cotton|0.05511\n",
      "32=grapes|0.05291\n",
      "32=jute|0.05614\n",
      "32=kidneybeans|0.03244\n",
      "32=lentil|0.02453\n",
      "32=maize|0.05503\n",
      "32=mango|0.04632\n",
      "32=mothbeans|0.03595\n",
      "32=mungbean|0.02505\n",
      "32=muskmelon|0.02688\n",
      "32=orange|0.05739\n",
      "32=papaya|0.05712\n",
      "32=pigeonpeas|0.04106\n",
      "32=pomegranate|0.05689\n",
      "32=rice|0.04571\n",
      "32=watermelon|0.02649\n",
      "----------------\n"
     ]
    }
   ],
   "source": [
    "#Let us assume N is high and temperature is low (Given as true so value is 1)\n",
    "evidence('ev1', 'N', 'high', 1)\n",
    "evidence('ev2', 'temperature', 'low', 1)\n",
    "print_probs()"
   ]
  },
  {
   "cell_type": "markdown",
   "id": "8a585e87",
   "metadata": {},
   "source": [
    "Now on adding the following conditions the best crop to grow is \"orange\""
   ]
  },
  {
   "cell_type": "code",
   "execution_count": 24,
   "id": "967303f0",
   "metadata": {},
   "outputs": [],
   "source": [
    "# Resetting the tree to add new evidence\n",
    "join_tree = InferenceController.apply(bbn)"
   ]
  },
  {
   "cell_type": "code",
   "execution_count": 25,
   "id": "6ffcb400",
   "metadata": {},
   "outputs": [
    {
     "name": "stdout",
     "output_type": "stream",
     "text": [
      "Node: 27|K|high,low,medium\n",
      "Values:\n",
      "27=high|0.28773\n",
      "27=low|0.21727\n",
      "27=medium|0.49500\n",
      "----------------\n",
      "Node: 26|P|high,low,medium\n",
      "Values:\n",
      "26=high|1.00000\n",
      "26=low|0.00000\n",
      "26=medium|0.00000\n",
      "----------------\n",
      "Node: 30|ph|high,low,medium\n",
      "Values:\n",
      "30=high|0.17670\n",
      "30=low|0.40095\n",
      "30=medium|0.42235\n",
      "----------------\n",
      "Node: 25|N|high,low,medium\n",
      "Values:\n",
      "25=high|0.26273\n",
      "25=low|0.24364\n",
      "25=medium|0.49364\n",
      "----------------\n",
      "Node: 29|humidity|high,low,medium\n",
      "Values:\n",
      "29=high|0.00000\n",
      "29=low|0.00000\n",
      "29=medium|1.00000\n",
      "----------------\n",
      "Node: 31|rainfall|high,low,medium\n",
      "Values:\n",
      "31=high|0.00000\n",
      "31=low|0.00000\n",
      "31=medium|1.00000\n",
      "----------------\n",
      "Node: 28|temperature|high,low,medium\n",
      "Values:\n",
      "28=high|0.19841\n",
      "28=low|0.18737\n",
      "28=medium|0.61421\n",
      "----------------\n",
      "Node: 32|label|apple,banana,blackgram,chickpea,coconut,coffee,cotton,grapes,jute,kidneybeans,lentil,maize,mango,mothbeans,mungbean,muskmelon,orange,papaya,pigeonpeas,pomegranate,rice,watermelon\n",
      "Values:\n",
      "32=apple|0.10013\n",
      "32=banana|0.10054\n",
      "32=blackgram|0.05372\n",
      "32=chickpea|0.07382\n",
      "32=coconut|0.00000\n",
      "32=coffee|0.00963\n",
      "32=cotton|0.07137\n",
      "32=grapes|0.09972\n",
      "32=jute|0.00000\n",
      "32=kidneybeans|0.06791\n",
      "32=lentil|0.00000\n",
      "32=maize|0.08648\n",
      "32=mango|0.10241\n",
      "32=mothbeans|0.01821\n",
      "32=mungbean|0.00000\n",
      "32=muskmelon|0.00000\n",
      "32=orange|0.07525\n",
      "32=papaya|0.02336\n",
      "32=pigeonpeas|0.02757\n",
      "32=pomegranate|0.08987\n",
      "32=rice|0.00000\n",
      "32=watermelon|0.00000\n",
      "----------------\n"
     ]
    }
   ],
   "source": [
    "# rainfall = 'medium'(True), P = high(True), humidity = medium(True with probablity 0.8)\n",
    "evidence('ev1', 'rainfall', 'medium', 1)\n",
    "evidence('ev2', 'P', 'high', 1)\n",
    "evidence('ev3', 'humidity', 'medium', 0.8)\n",
    "print_probs()"
   ]
  },
  {
   "cell_type": "markdown",
   "id": "c1fc5413",
   "metadata": {},
   "source": [
    "Here the best crop to grow is mango based on given conditions"
   ]
  },
  {
   "cell_type": "code",
   "execution_count": 26,
   "id": "23040260",
   "metadata": {},
   "outputs": [],
   "source": [
    "# Resetting the tree to add new evidence\n",
    "join_tree = InferenceController.apply(bbn)"
   ]
  },
  {
   "cell_type": "code",
   "execution_count": 27,
   "id": "c280d606",
   "metadata": {},
   "outputs": [
    {
     "name": "stdout",
     "output_type": "stream",
     "text": [
      "Node: 27|K|high,low,medium\n",
      "Values:\n",
      "27=high|0.00000\n",
      "27=low|0.00000\n",
      "27=medium|1.00000\n",
      "----------------\n",
      "Node: 26|P|high,low,medium\n",
      "Values:\n",
      "26=high|0.26636\n",
      "26=low|0.24545\n",
      "26=medium|0.48818\n",
      "----------------\n",
      "Node: 30|ph|high,low,medium\n",
      "Values:\n",
      "30=high|0.24679\n",
      "30=low|0.26019\n",
      "30=medium|0.49302\n",
      "----------------\n",
      "Node: 25|N|high,low,medium\n",
      "Values:\n",
      "25=high|0.26273\n",
      "25=low|0.24364\n",
      "25=medium|0.49364\n",
      "----------------\n",
      "Node: 29|humidity|high,low,medium\n",
      "Values:\n",
      "29=high|0.25000\n",
      "29=low|0.25000\n",
      "29=medium|0.50000\n",
      "----------------\n",
      "Node: 31|rainfall|high,low,medium\n",
      "Values:\n",
      "31=high|0.24491\n",
      "31=low|0.25164\n",
      "31=medium|0.50345\n",
      "----------------\n",
      "Node: 28|temperature|high,low,medium\n",
      "Values:\n",
      "28=high|0.25000\n",
      "28=low|0.25000\n",
      "28=medium|0.50000\n",
      "----------------\n",
      "Node: 32|label|apple,banana,blackgram,chickpea,coconut,coffee,cotton,grapes,jute,kidneybeans,lentil,maize,mango,mothbeans,mungbean,muskmelon,orange,papaya,pigeonpeas,pomegranate,rice,watermelon\n",
      "Values:\n",
      "32=apple|0.04309\n",
      "32=banana|0.04444\n",
      "32=blackgram|0.04607\n",
      "32=chickpea|0.04839\n",
      "32=coconut|0.04377\n",
      "32=coffee|0.04611\n",
      "32=cotton|0.04754\n",
      "32=grapes|0.04485\n",
      "32=jute|0.04562\n",
      "32=kidneybeans|0.04840\n",
      "32=lentil|0.04237\n",
      "32=maize|0.04744\n",
      "32=mango|0.04307\n",
      "32=mothbeans|0.07268\n",
      "32=mungbean|0.03689\n",
      "32=muskmelon|0.03535\n",
      "32=orange|0.04869\n",
      "32=papaya|0.04536\n",
      "32=pigeonpeas|0.04299\n",
      "32=pomegranate|0.04688\n",
      "32=rice|0.04433\n",
      "32=watermelon|0.03568\n",
      "----------------\n"
     ]
    }
   ],
   "source": [
    "# K = True\n",
    "evidence('ev1', 'K', 'medium', 1)\n",
    "print_probs()"
   ]
  },
  {
   "cell_type": "markdown",
   "id": "a5e49e1d",
   "metadata": {},
   "source": [
    "As we saw that label is completely independent of K so when given the value of K there is no change in the probablities on crop as it is completely independent of it. So the best crop is same and it is mothbeans"
   ]
  },
  {
   "cell_type": "markdown",
   "id": "01207487",
   "metadata": {},
   "source": [
    "So hence we can see that bayesian networks are very useful when we want to find which will be the best choice based on a few dependent variable."
   ]
  }
 ],
 "metadata": {
  "kernelspec": {
   "display_name": "Python 3 (ipykernel)",
   "language": "python",
   "name": "python3"
  },
  "language_info": {
   "codemirror_mode": {
    "name": "ipython",
    "version": 3
   },
   "file_extension": ".py",
   "mimetype": "text/x-python",
   "name": "python",
   "nbconvert_exporter": "python",
   "pygments_lexer": "ipython3",
   "version": "3.9.12"
  }
 },
 "nbformat": 4,
 "nbformat_minor": 5
}
